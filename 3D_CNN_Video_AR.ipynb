{
  "nbformat": 4,
  "nbformat_minor": 0,
  "metadata": {
    "colab": {
      "name": "3D CNN Video AR.ipynb",
      "version": "0.3.2",
      "provenance": [],
      "collapsed_sections": [],
      "include_colab_link": true
    },
    "kernelspec": {
      "name": "python3",
      "display_name": "Python 3"
    },
    "accelerator": "GPU"
  },
  "cells": [
    {
      "cell_type": "markdown",
      "metadata": {
        "id": "view-in-github",
        "colab_type": "text"
      },
      "source": [
        "<a href=\"https://colab.research.google.com/github/blufzzz/Dynamic-Texture-3D-CNN/blob/master/3D_CNN_Video_AR.ipynb\" target=\"_parent\"><img src=\"https://colab.research.google.com/assets/colab-badge.svg\" alt=\"Open In Colab\"/></a>"
      ]
    },
    {
      "metadata": {
        "id": "t7jwSe_FyKeC",
        "colab_type": "text"
      },
      "cell_type": "markdown",
      "source": [
        "### This notebook is demo for dynamic texture synthesis via auto-regresion of the frame sequence"
      ]
    },
    {
      "metadata": {
        "id": "PgfsywVLx-dQ",
        "colab_type": "code",
        "colab": {
          "base_uri": "https://localhost:8080/",
          "height": 124
        },
        "outputId": "c1c19c0a-b756-4015-9360-dbc35cf51317"
      },
      "cell_type": "code",
      "source": [
        "import urllib\n",
        "import requests\n",
        "from os import path\n",
        "# нужна информация о нашей системе\n",
        "from wheel.pep425tags import get_abbr_impl, get_impl_ver, get_abi_tag\n",
        "platform = '{}{}-{}'.format(get_abbr_impl(), get_impl_ver(), get_abi_tag())\n",
        "\n",
        "# уточним на чем будем вычислять\n",
        "accelerator = 'cu80' if path.exists('/opt/bin/nvidia-smi') else 'cpu'\n",
        "\n",
        "!pip install -q http://download.pytorch.org/whl/{accelerator}/torch-0.4.1-{platform}-linux_x86_64.whl torchvision"
      ],
      "execution_count": 1,
      "outputs": [
        {
          "output_type": "stream",
          "text": [
            "tcmalloc: large alloc 1073750016 bytes == 0x562d0000 @  0x7eff8bb0b2a4 0x591a07 0x5b5d56 0x502e9a 0x506859 0x502209 0x502f3d 0x506859 0x504c28 0x502540 0x502f3d 0x506859 0x504c28 0x502540 0x502f3d 0x506859 0x504c28 0x502540 0x502f3d 0x507641 0x502209 0x502f3d 0x506859 0x504c28 0x502540 0x502f3d 0x507641 0x504c28 0x502540 0x502f3d 0x507641\n",
            "\u001b[31mfastai 1.0.41 has requirement torch>=1.0.0, but you'll have torch 0.4.1 which is incompatible.\u001b[0m\n",
            "torch version 0.4.1\n",
            "torchvision version 0.2.1\n",
            "is cuda availible True\n"
          ],
          "name": "stdout"
        }
      ]
    },
    {
      "metadata": {
        "id": "lDvGXzXdKZ5j",
        "colab_type": "code",
        "colab": {
          "base_uri": "https://localhost:8080/",
          "height": 193
        },
        "outputId": "2cee41bd-f4ec-4beb-e052-31c504882b6c"
      },
      "cell_type": "code",
      "source": [
        "!pip install --no-cache-dir -I pillow"
      ],
      "execution_count": 15,
      "outputs": [
        {
          "output_type": "stream",
          "text": [
            "Collecting pillow\n",
            "\u001b[?25l  Downloading https://files.pythonhosted.org/packages/85/5e/e91792f198bbc5a0d7d3055ad552bc4062942d27eaf75c3e2783cf64eae5/Pillow-5.4.1-cp36-cp36m-manylinux1_x86_64.whl (2.0MB)\n",
            "\u001b[K    100% |████████████████████████████████| 2.0MB 79.5MB/s \n",
            "\u001b[31mfastai 1.0.41 has requirement torch>=1.0.0, but you'll have torch 0.4.1 which is incompatible.\u001b[0m\n",
            "\u001b[?25hInstalling collected packages: pillow\n",
            "Successfully installed pillow-5.4.1\n",
            "\u001b[0;31;1mWARNING: The following packages were previously imported in this runtime:\n",
            "  [PIL]\n",
            "You must restart the runtime in order to use newly installed versions.\u001b[0m\n"
          ],
          "name": "stdout"
        }
      ]
    },
    {
      "metadata": {
        "id": "z4XHWjICJdwq",
        "colab_type": "code",
        "colab": {}
      },
      "cell_type": "code",
      "source": [
        "from skimage import io\n",
        "import cv2\n",
        "import numpy as np\n",
        "import matplotlib.pyplot as plt\n",
        "from tqdm import tqdm\n",
        "from IPython.core.display import clear_output\n",
        "import torch\n",
        "import torchvision\n",
        "from torch import nn\n"
      ],
      "execution_count": 0,
      "outputs": []
    },
    {
      "metadata": {
        "id": "HovrTZn8IZW7",
        "colab_type": "code",
        "colab": {
          "base_uri": "https://localhost:8080/",
          "height": 34
        },
        "outputId": "e16b2024-878f-4a39-af65-17ecdf05022d"
      },
      "cell_type": "code",
      "source": [
        "from google.colab import drive\n",
        "\n",
        "drive.mount('/content/gdrive')"
      ],
      "execution_count": 5,
      "outputs": [
        {
          "output_type": "stream",
          "text": [
            "Drive already mounted at /content/gdrive; to attempt to forcibly remount, call drive.mount(\"/content/gdrive\", force_remount=True).\n"
          ],
          "name": "stdout"
        }
      ]
    },
    {
      "metadata": {
        "id": "6HdR9hO_IdHE",
        "colab_type": "code",
        "colab": {
          "base_uri": "https://localhost:8080/",
          "height": 34
        },
        "outputId": "fe809a0a-a1c3-4520-8e14-ba8e15eccdb5"
      },
      "cell_type": "code",
      "source": [
        "cd ./gdrive/My\\ Drive/Colab Notebooks/two-stream-dyntex-synth"
      ],
      "execution_count": 2,
      "outputs": [
        {
          "output_type": "stream",
          "text": [
            "/content/gdrive/My Drive/Colab Notebooks/two-stream-dyntex-synth\n"
          ],
          "name": "stdout"
        }
      ]
    },
    {
      "metadata": {
        "id": "bvlZzYrW9HMO",
        "colab_type": "code",
        "colab": {
          "base_uri": "https://localhost:8080/",
          "height": 131
        },
        "outputId": "6dce163c-083c-4e6c-8433-ec30adf0cd8c"
      },
      "cell_type": "code",
      "source": [
        "class CNN3D(nn.Module):\n",
        "  \n",
        "  def __init__(self):\n",
        "    \n",
        "    super(CNN3D).__init__()\n",
        "  \n",
        "    self.model = nn.Sequential(\n",
        "                  nn.Conv3d(3,64, 3, stride=2, padding = (0, 2, 2))\n",
        "                  nn.MaxPool3d()\n",
        "                  nn.LeakyReLU()\n",
        "                  nn.Conv3d(64, 64, 3, stride = 2)\n",
        "                  nn.MaxPool3d()\n",
        "                  nn.LeakyReLU()\n",
        "                  nn.Conv3d(64,84,3, stride = 2)\n",
        "                  nn.MaxPool3d()\n",
        "                  nn.LeakyReLU()  \n",
        "                  \n",
        "                  nn.MaxUnpool3d()\n",
        "                  nn.ConvTranspose3d()\n",
        "                  nn.LeakyReLU()\n",
        "                  nn.MaxUnpool3d()\n",
        "                  nn.ConvTranspose3d()\n",
        "                  nn.LeakyReLU()\n",
        "                  nn.MaxUnpool3d()\n",
        "                  nn.ConvTranspose3d()\n",
        "                  nn.LeakyReLU()  \n",
        "                )\n",
        "\n",
        "    \n",
        "  def forward(self, tensor):\n",
        "    \n",
        "    return self.model(tensor)"
      ],
      "execution_count": 5,
      "outputs": [
        {
          "output_type": "error",
          "ename": "SyntaxError",
          "evalue": "ignored",
          "traceback": [
            "\u001b[0;36m  File \u001b[0;32m\"<ipython-input-5-3b91fdea2acd>\"\u001b[0;36m, line \u001b[0;32m11\u001b[0m\n\u001b[0;31m    nn.MaxPool3d()\u001b[0m\n\u001b[0m     ^\u001b[0m\n\u001b[0;31mSyntaxError\u001b[0m\u001b[0;31m:\u001b[0m invalid syntax\n"
          ]
        }
      ]
    },
    {
      "metadata": {
        "id": "FijerleWH3xQ",
        "colab_type": "code",
        "colab": {
          "base_uri": "https://localhost:8080/",
          "height": 34
        },
        "outputId": "66bf7cdc-749d-45f8-8209-762a50cc0d69"
      },
      "cell_type": "code",
      "source": [
        "img1 = io.imread('./data/dynamic_textures/fur/frame_00000000.png').transpose(2,0,1)\n",
        "img2 = io.imread('./data/dynamic_textures/fur/frame_00000001.png').transpose(2,0,1)\n",
        "x = np.array([[img1,img2, img1, img2]])\n",
        "\n",
        "x = torch.Tensor(x).transpose(2,1)\n",
        "x.shape"
      ],
      "execution_count": 51,
      "outputs": [
        {
          "output_type": "execute_result",
          "data": {
            "text/plain": [
              "torch.Size([1, 3, 4, 256, 256])"
            ]
          },
          "metadata": {
            "tags": []
          },
          "execution_count": 51
        }
      ]
    },
    {
      "metadata": {
        "id": "QfHxRKYvMJv7",
        "colab_type": "code",
        "colab": {}
      },
      "cell_type": "code",
      "source": [
        "conv = nn.Conv3d(3,64, 3, stride=1) # , padding = (0, 2, 2)\n",
        "pool = nn.MaxPool3d((1,3,3), stride = 1)"
      ],
      "execution_count": 0,
      "outputs": []
    },
    {
      "metadata": {
        "id": "BZmeQq4OMk2p",
        "colab_type": "code",
        "colab": {
          "base_uri": "https://localhost:8080/",
          "height": 34
        },
        "outputId": "ff750a29-cea1-4d24-e476-34d5daf6c083"
      },
      "cell_type": "code",
      "source": [
        "pool(x).shape"
      ],
      "execution_count": 53,
      "outputs": [
        {
          "output_type": "execute_result",
          "data": {
            "text/plain": [
              "torch.Size([1, 3, 4, 254, 254])"
            ]
          },
          "metadata": {
            "tags": []
          },
          "execution_count": 53
        }
      ]
    },
    {
      "metadata": {
        "id": "r5zP4tuMQdC4",
        "colab_type": "code",
        "colab": {
          "base_uri": "https://localhost:8080/",
          "height": 34
        },
        "outputId": "89cad9f2-9ddf-44e2-b545-7f2fa7308c7f"
      },
      "cell_type": "code",
      "source": [
        "c = conv(x)\n",
        "c.shape"
      ],
      "execution_count": 54,
      "outputs": [
        {
          "output_type": "execute_result",
          "data": {
            "text/plain": [
              "torch.Size([1, 64, 2, 254, 254])"
            ]
          },
          "metadata": {
            "tags": []
          },
          "execution_count": 54
        }
      ]
    },
    {
      "metadata": {
        "id": "ko6gs_pEQkp-",
        "colab_type": "code",
        "colab": {}
      },
      "cell_type": "code",
      "source": [
        ""
      ],
      "execution_count": 0,
      "outputs": []
    }
  ]
}